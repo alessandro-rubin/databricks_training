{
  "nbformat": 4,
  "nbformat_minor": 0,
  "metadata": {
    "colab": {
      "provenance": [],
      "authorship_tag": "ABX9TyOGw3Hw4Ocl9tjuz6ybO1/g",
      "include_colab_link": true
    },
    "kernelspec": {
      "name": "python3",
      "display_name": "Python 3"
    },
    "language_info": {
      "name": "python"
    }
  },
  "cells": [
    {
      "cell_type": "markdown",
      "metadata": {
        "id": "view-in-github",
        "colab_type": "text"
      },
      "source": [
        "<a href=\"https://colab.research.google.com/github/alessandro-rubin/databricks_training/blob/main/ms_aggregation.ipynb\" target=\"_parent\"><img src=\"https://colab.research.google.com/assets/colab-badge.svg\" alt=\"Open In Colab\"/></a>"
      ]
    },
    {
      "cell_type": "code",
      "source": [
        "!pip install pyspark"
      ],
      "metadata": {
        "colab": {
          "base_uri": "https://localhost:8080/"
        },
        "id": "ABnDWBCPadof",
        "outputId": "5808af4d-b7bb-4307-9750-cad57d4bf365"
      },
      "execution_count": 2,
      "outputs": [
        {
          "output_type": "stream",
          "name": "stdout",
          "text": [
            "Collecting pyspark\n",
            "  Downloading pyspark-3.5.0.tar.gz (316.9 MB)\n",
            "\u001b[2K     \u001b[90m━━━━━━━━━━━━━━━━━━━━━━━━━━━━━━━━━━━━━━━━\u001b[0m \u001b[32m316.9/316.9 MB\u001b[0m \u001b[31m4.6 MB/s\u001b[0m eta \u001b[36m0:00:00\u001b[0m\n",
            "\u001b[?25h  Preparing metadata (setup.py) ... \u001b[?25l\u001b[?25hdone\n",
            "Requirement already satisfied: py4j==0.10.9.7 in /usr/local/lib/python3.10/dist-packages (from pyspark) (0.10.9.7)\n",
            "Building wheels for collected packages: pyspark\n",
            "  Building wheel for pyspark (setup.py) ... \u001b[?25l\u001b[?25hdone\n",
            "  Created wheel for pyspark: filename=pyspark-3.5.0-py2.py3-none-any.whl size=317425345 sha256=9087ff39b3b170b26cf362da9369ae547e67b19b3ed6b8b2b6447072e7654f51\n",
            "  Stored in directory: /root/.cache/pip/wheels/41/4e/10/c2cf2467f71c678cfc8a6b9ac9241e5e44a01940da8fbb17fc\n",
            "Successfully built pyspark\n",
            "Installing collected packages: pyspark\n",
            "Successfully installed pyspark-3.5.0\n"
          ]
        }
      ]
    },
    {
      "cell_type": "code",
      "source": [
        "from pyspark.sql import SparkSession\n",
        "from pyspark.sql.functions import expr\n",
        "from datetime import datetime, timedelta\n",
        "import random\n",
        "from pyspark.sql.functions import window, col\n",
        "import pyspark.sql.functions as F\n",
        "from pyspark.sql.types import DoubleType, IntegerType, StringType, StructType, StructField, TimestampType\n",
        "\n",
        "from pyspark.sql import Window"
      ],
      "metadata": {
        "id": "vhn74RACeISG"
      },
      "execution_count": null,
      "outputs": []
    },
    {
      "cell_type": "code",
      "execution_count": 16,
      "metadata": {
        "colab": {
          "base_uri": "https://localhost:8080/"
        },
        "id": "HvRkVUORZ5EO",
        "outputId": "61def6e7-1d25-4955-a186-9082cf080123"
      },
      "outputs": [
        {
          "output_type": "stream",
          "name": "stdout",
          "text": [
            "+-------------------+-----+------------------+------------------+\n",
            "|          timestamp|  VIN|          odometer|     rail_pressure|\n",
            "+-------------------+-----+------------------+------------------+\n",
            "|2023-01-01 00:00:00|VIN_0|1899.2357124788582| 3.603427405618819|\n",
            "|2023-01-01 00:00:30|VIN_0|1899.3260237195163| 6.508120407023222|\n",
            "|2023-01-01 00:01:00|VIN_0| 1899.416326000726| 5.841965642892393|\n",
            "|2023-01-01 00:01:30|VIN_0| 1899.506619323376| 8.414535954296237|\n",
            "|2023-01-01 00:02:00|VIN_0|1899.5969036883553| 7.442419208452327|\n",
            "|2023-01-01 00:02:30|VIN_0|1899.6871790965522| 6.019580028720641|\n",
            "|2023-01-01 00:03:00|VIN_0|1899.7774455488554|3.8091239517834214|\n",
            "|2023-01-01 00:03:30|VIN_0|1899.8677030461536| 7.394373718949166|\n",
            "|2023-01-01 00:04:00|VIN_0| 1899.957951589335| 5.377180543595734|\n",
            "|2023-01-01 00:04:30|VIN_0|1900.0481911792876| 3.433761064232664|\n",
            "|2023-01-01 00:05:00|VIN_0|   1900.1384218169|4.1705455324491325|\n",
            "|2023-01-01 00:05:30|VIN_0|1900.2286435030605|4.5664483449680215|\n",
            "|2023-01-01 00:06:00|VIN_0|1900.3188562386567|4.5979875218788715|\n",
            "|2023-01-01 00:06:30|VIN_0|1900.4090600245768|3.8731756576495284|\n",
            "|2023-01-01 00:07:00|VIN_0|1900.4992548617086| 1.881493717741158|\n",
            "|2023-01-01 00:07:30|VIN_0|  1900.58944075094|2.3568132911874384|\n",
            "|2023-01-01 00:08:00|VIN_0|1900.6796176931584|2.7416650830662954|\n",
            "|2023-01-01 00:08:30|VIN_0|1900.7697856892516| 5.250278205977707|\n",
            "|2023-01-01 00:09:00|VIN_0|1900.8599447401073| 5.497968067471057|\n",
            "|2023-01-01 00:09:30|VIN_0|1900.9500948466125| 6.683158237116376|\n",
            "+-------------------+-----+------------------+------------------+\n",
            "only showing top 20 rows\n",
            "\n"
          ]
        }
      ],
      "source": [
        "\n",
        "\n",
        "# Create a Spark session\n",
        "spark = SparkSession.builder.appName(\"ColabSparkSession\").getOrCreate()\n",
        "\n",
        "# Define the schema for the DataFrame\n",
        "schema = StructType([\n",
        "    StructField(\"timestamp\", TimestampType(), True),\n",
        "    StructField(\"VIN\", StringType(), True),\n",
        "    StructField(\"odometer\", DoubleType(), True),\n",
        "    StructField(\"rail_pressure\", DoubleType(), True)\n",
        "])\n",
        "\n",
        "# Generate random data for each VIN\n",
        "num_vins = 10\n",
        "start_date = datetime(2023, 1, 1)\n",
        "end_date = datetime(2023, 1, 8)\n",
        "interval_in_seconda=30\n",
        "interval = timedelta(seconds=interval_in_seconda)\n",
        "\n",
        "data = []\n",
        "for vin_index in range(num_vins):\n",
        "    vin = f\"VIN_{vin_index}\"\n",
        "    start_odometer = random.uniform(1000, 2000)\n",
        "    end_odometer = random.uniform(start_odometer, start_odometer + 1000)\n",
        "    avg_pressure = random.uniform(5, 7)\n",
        "\n",
        "    current_date = start_date\n",
        "    while current_date <= end_date:\n",
        "        data.append((current_date, vin, start_odometer, random.gauss(avg_pressure, 2)))\n",
        "        current_date += interval\n",
        "        start_odometer += (end_odometer - start_odometer) / ((end_date - start_date).total_seconds() / 60)\n",
        "\n",
        "# Create the DataFrame\n",
        "df = spark.createDataFrame(data, schema)\n",
        "\n",
        "# Show the DataFrame\n",
        "df.show()\n",
        "\n"
      ]
    },
    {
      "cell_type": "code",
      "source": [
        "df=df.withColumn('MS_1',F.when(col('rail_pressure')>7,1).otherwise(0))\n",
        "df=df.withColumn(\"hourly_timestamp\", F.date_trunc(\"hour\", df.timestamp))\n",
        "df.show()"
      ],
      "metadata": {
        "colab": {
          "base_uri": "https://localhost:8080/"
        },
        "id": "qaPhE6J4cDku",
        "outputId": "749d9179-db51-48a7-c2c3-53f7a7658613"
      },
      "execution_count": 21,
      "outputs": [
        {
          "output_type": "stream",
          "name": "stdout",
          "text": [
            "+-------------------+-----+------------------+------------------+----+-------------------+\n",
            "|          timestamp|  VIN|          odometer|     rail_pressure|MS_1|   hourly_timestamp|\n",
            "+-------------------+-----+------------------+------------------+----+-------------------+\n",
            "|2023-01-01 00:00:00|VIN_0|1899.2357124788582| 3.603427405618819|   0|2023-01-01 00:00:00|\n",
            "|2023-01-01 00:00:30|VIN_0|1899.3260237195163| 6.508120407023222|   0|2023-01-01 00:00:00|\n",
            "|2023-01-01 00:01:00|VIN_0| 1899.416326000726| 5.841965642892393|   0|2023-01-01 00:00:00|\n",
            "|2023-01-01 00:01:30|VIN_0| 1899.506619323376| 8.414535954296237|   1|2023-01-01 00:00:00|\n",
            "|2023-01-01 00:02:00|VIN_0|1899.5969036883553| 7.442419208452327|   1|2023-01-01 00:00:00|\n",
            "|2023-01-01 00:02:30|VIN_0|1899.6871790965522| 6.019580028720641|   0|2023-01-01 00:00:00|\n",
            "|2023-01-01 00:03:00|VIN_0|1899.7774455488554|3.8091239517834214|   0|2023-01-01 00:00:00|\n",
            "|2023-01-01 00:03:30|VIN_0|1899.8677030461536| 7.394373718949166|   1|2023-01-01 00:00:00|\n",
            "|2023-01-01 00:04:00|VIN_0| 1899.957951589335| 5.377180543595734|   0|2023-01-01 00:00:00|\n",
            "|2023-01-01 00:04:30|VIN_0|1900.0481911792876| 3.433761064232664|   0|2023-01-01 00:00:00|\n",
            "|2023-01-01 00:05:00|VIN_0|   1900.1384218169|4.1705455324491325|   0|2023-01-01 00:00:00|\n",
            "|2023-01-01 00:05:30|VIN_0|1900.2286435030605|4.5664483449680215|   0|2023-01-01 00:00:00|\n",
            "|2023-01-01 00:06:00|VIN_0|1900.3188562386567|4.5979875218788715|   0|2023-01-01 00:00:00|\n",
            "|2023-01-01 00:06:30|VIN_0|1900.4090600245768|3.8731756576495284|   0|2023-01-01 00:00:00|\n",
            "|2023-01-01 00:07:00|VIN_0|1900.4992548617086| 1.881493717741158|   0|2023-01-01 00:00:00|\n",
            "|2023-01-01 00:07:30|VIN_0|  1900.58944075094|2.3568132911874384|   0|2023-01-01 00:00:00|\n",
            "|2023-01-01 00:08:00|VIN_0|1900.6796176931584|2.7416650830662954|   0|2023-01-01 00:00:00|\n",
            "|2023-01-01 00:08:30|VIN_0|1900.7697856892516| 5.250278205977707|   0|2023-01-01 00:00:00|\n",
            "|2023-01-01 00:09:00|VIN_0|1900.8599447401073| 5.497968067471057|   0|2023-01-01 00:00:00|\n",
            "|2023-01-01 00:09:30|VIN_0|1900.9500948466125| 6.683158237116376|   0|2023-01-01 00:00:00|\n",
            "+-------------------+-----+------------------+------------------+----+-------------------+\n",
            "only showing top 20 rows\n",
            "\n"
          ]
        }
      ]
    },
    {
      "cell_type": "code",
      "source": [
        "# Run the aggregation code provided in the previous message\n",
        "window_spec = window(col(\"timestamp\"), \"1 hour\")\n",
        "result = df.groupBy(window_spec, \"vin\").agg(\n",
        "    F.sum(col(\"MS_1\")).alias(\"binary_column_1_sum\"),\n",
        "    F.count(\"*\").alias(\"total_rows_in_window\")\n",
        ")\n",
        "\n",
        "result=result.withColumn(\"Win_start\",col(\"window.start\"))\n",
        "result.orderBy(col(\"window.start\").asc(),col('vin')).show()"
      ],
      "metadata": {
        "colab": {
          "base_uri": "https://localhost:8080/"
        },
        "id": "nUNPZR05aySu",
        "outputId": "0d919dc0-d055-441d-c933-520199174ac9"
      },
      "execution_count": 20,
      "outputs": [
        {
          "output_type": "stream",
          "name": "stdout",
          "text": [
            "+--------------------+-----+-------------------+--------------------+-------------------+\n",
            "|              window|  vin|binary_column_1_sum|total_rows_in_window|          Win_start|\n",
            "+--------------------+-----+-------------------+--------------------+-------------------+\n",
            "|{2023-01-01 00:00...|VIN_0|                 25|                 120|2023-01-01 00:00:00|\n",
            "|{2023-01-01 00:00...|VIN_1|                 25|                 120|2023-01-01 00:00:00|\n",
            "|{2023-01-01 00:00...|VIN_2|                 43|                 120|2023-01-01 00:00:00|\n",
            "|{2023-01-01 00:00...|VIN_3|                 34|                 120|2023-01-01 00:00:00|\n",
            "|{2023-01-01 00:00...|VIN_4|                 38|                 120|2023-01-01 00:00:00|\n",
            "|{2023-01-01 00:00...|VIN_5|                 28|                 120|2023-01-01 00:00:00|\n",
            "|{2023-01-01 00:00...|VIN_6|                 21|                 120|2023-01-01 00:00:00|\n",
            "|{2023-01-01 00:00...|VIN_7|                 47|                 120|2023-01-01 00:00:00|\n",
            "|{2023-01-01 00:00...|VIN_8|                 24|                 120|2023-01-01 00:00:00|\n",
            "|{2023-01-01 00:00...|VIN_9|                 50|                 120|2023-01-01 00:00:00|\n",
            "|{2023-01-01 01:00...|VIN_0|                 24|                 120|2023-01-01 01:00:00|\n",
            "|{2023-01-01 01:00...|VIN_1|                 18|                 120|2023-01-01 01:00:00|\n",
            "|{2023-01-01 01:00...|VIN_2|                 39|                 120|2023-01-01 01:00:00|\n",
            "|{2023-01-01 01:00...|VIN_3|                 38|                 120|2023-01-01 01:00:00|\n",
            "|{2023-01-01 01:00...|VIN_4|                 39|                 120|2023-01-01 01:00:00|\n",
            "|{2023-01-01 01:00...|VIN_5|                 33|                 120|2023-01-01 01:00:00|\n",
            "|{2023-01-01 01:00...|VIN_6|                 23|                 120|2023-01-01 01:00:00|\n",
            "|{2023-01-01 01:00...|VIN_7|                 35|                 120|2023-01-01 01:00:00|\n",
            "|{2023-01-01 01:00...|VIN_8|                 28|                 120|2023-01-01 01:00:00|\n",
            "|{2023-01-01 01:00...|VIN_9|                 42|                 120|2023-01-01 01:00:00|\n",
            "+--------------------+-----+-------------------+--------------------+-------------------+\n",
            "only showing top 20 rows\n",
            "\n"
          ]
        }
      ]
    },
    {
      "cell_type": "code",
      "source": [
        "df.groupBy('vin','hourly_timestamp').agg(F.sum('MS_1'),F.count('*')).orderBy(['hourly_timestamp','vin']).show()"
      ],
      "metadata": {
        "colab": {
          "base_uri": "https://localhost:8080/"
        },
        "id": "39Fe9kW1d5UP",
        "outputId": "afa5987e-2857-49f3-a5ff-c9cecd2624b5"
      },
      "execution_count": 22,
      "outputs": [
        {
          "output_type": "stream",
          "name": "stdout",
          "text": [
            "+-----+-------------------+---------+--------+\n",
            "|  vin|   hourly_timestamp|sum(MS_1)|count(1)|\n",
            "+-----+-------------------+---------+--------+\n",
            "|VIN_0|2023-01-01 00:00:00|       25|     120|\n",
            "|VIN_1|2023-01-01 00:00:00|       25|     120|\n",
            "|VIN_2|2023-01-01 00:00:00|       43|     120|\n",
            "|VIN_3|2023-01-01 00:00:00|       34|     120|\n",
            "|VIN_4|2023-01-01 00:00:00|       38|     120|\n",
            "|VIN_5|2023-01-01 00:00:00|       28|     120|\n",
            "|VIN_6|2023-01-01 00:00:00|       21|     120|\n",
            "|VIN_7|2023-01-01 00:00:00|       47|     120|\n",
            "|VIN_8|2023-01-01 00:00:00|       24|     120|\n",
            "|VIN_9|2023-01-01 00:00:00|       50|     120|\n",
            "|VIN_0|2023-01-01 01:00:00|       24|     120|\n",
            "|VIN_1|2023-01-01 01:00:00|       18|     120|\n",
            "|VIN_2|2023-01-01 01:00:00|       39|     120|\n",
            "|VIN_3|2023-01-01 01:00:00|       38|     120|\n",
            "|VIN_4|2023-01-01 01:00:00|       39|     120|\n",
            "|VIN_5|2023-01-01 01:00:00|       33|     120|\n",
            "|VIN_6|2023-01-01 01:00:00|       23|     120|\n",
            "|VIN_7|2023-01-01 01:00:00|       35|     120|\n",
            "|VIN_8|2023-01-01 01:00:00|       28|     120|\n",
            "|VIN_9|2023-01-01 01:00:00|       42|     120|\n",
            "+-----+-------------------+---------+--------+\n",
            "only showing top 20 rows\n",
            "\n"
          ]
        }
      ]
    }
  ]
}