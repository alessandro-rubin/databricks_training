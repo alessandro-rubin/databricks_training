{
  "nbformat": 4,
  "nbformat_minor": 0,
  "metadata": {
    "colab": {
      "provenance": [],
      "authorship_tag": "ABX9TyNqxK/m/1Ztk55OSZuyKSXZ",
      "include_colab_link": true
    },
    "kernelspec": {
      "name": "python3",
      "display_name": "Python 3"
    },
    "language_info": {
      "name": "python"
    }
  },
  "cells": [
    {
      "cell_type": "markdown",
      "metadata": {
        "id": "view-in-github",
        "colab_type": "text"
      },
      "source": [
        "<a href=\"https://colab.research.google.com/github/alessandro-rubin/databricks_training/blob/main/event_clustering.ipynb\" target=\"_parent\"><img src=\"https://colab.research.google.com/assets/colab-badge.svg\" alt=\"Open In Colab\"/></a>"
      ]
    },
    {
      "cell_type": "code",
      "execution_count": null,
      "metadata": {
        "id": "H5I7hCERna21"
      },
      "outputs": [],
      "source": [
        "!pip install pyspark\n",
        "\n",
        "from pyspark.sql import SparkSession\n",
        "from pyspark.sql.types import DoubleType, IntegerType, StringType, StructType, StructField, TimestampType\n",
        "import random\n",
        "import datetime\n",
        "import pandas as pd\n",
        "import pyspark.sql.functions as F"
      ]
    },
    {
      "cell_type": "code",
      "source": [
        "from pyspark.sql.functions import col\n",
        "\n",
        "# Create a SparkSession\n",
        "spark = SparkSession.builder.getOrCreate()\n",
        "\n",
        "# Sample input data\n",
        "data = [\n",
        "    (\"Event A\", \"2023-07-01 10:00:00\", \"2023-07-01 10:05:00\"),\n",
        "    (\"Event A\", \"2023-07-01 10:07:00\", \"2023-07-01 10:10:00\"),\n",
        "    (\"Event A\", \"2023-07-01 10:15:00\", \"2023-07-01 10:20:00\"),\n",
        "    (\"Event B\", \"2023-07-01 10:01:00\", \"2023-07-01 10:02:00\"),\n",
        "    (\"Event B\", \"2023-07-01 10:04:00\", \"2023-07-01 10:06:00\"),\n",
        "    (\"Event B\", \"2023-07-01 10:08:00\", \"2023-07-01 10:09:00\"),\n",
        "    (\"Event C\", \"2023-07-01 10:02:00\", \"2023-07-01 10:05:00\"),\n",
        "    (\"Event C\", \"2023-07-01 10:11:00\", \"2023-07-01 10:14:00\"),\n",
        "    (\"Event C\", \"2023-07-01 10:17:00\", \"2023-07-01 10:19:00\"),\n",
        "]\n",
        "\n",
        "# Create the DataFrame\n",
        "df = spark.createDataFrame(data, [\"type\", \"begin\", \"end\"])\n",
        "\n",
        "# Convert string timestamps to timestamp data type\n",
        "df = df.withColumn(\"begin\", col(\"begin\").cast(\"timestamp\"))\n",
        "df = df.withColumn(\"end\", col(\"end\").cast(\"timestamp\"))\n",
        "\n",
        "# Show the input DataFrame\n",
        "df.show()\n"
      ],
      "metadata": {
        "id": "0caDZw0knohz"
      },
      "execution_count": null,
      "outputs": []
    },
    {
      "cell_type": "code",
      "source": [
        "from datetime import timedelta\n",
        "time_interval= timedelta(days=1,hours=0)\n",
        "time_interval.total_seconds()"
      ],
      "metadata": {
        "id": "utq35JYyuNFZ"
      },
      "execution_count": null,
      "outputs": []
    },
    {
      "cell_type": "code",
      "source": [
        "\n",
        "import pyspark.sql.functions as F\n",
        "from pyspark.sql import Window\n",
        "\n",
        "\n",
        "# Convert the user-defined time interval to seconds\n",
        "time_interval_seconds = time_interval.total_seconds()  # User-defined value\n",
        "\n",
        "# Calculate the time difference in seconds\n",
        "df = df.withColumn(\"time_diff\",\n",
        "                   F.col(\"begin\").cast(\"long\") - F.lag(\"end\").over(Window.partitionBy(\"type\").orderBy(\"begin\")).cast(\"long\"))\n",
        "\n",
        "# Group events and create event clusters based on the time interval\n",
        "df = df.withColumn(\"event_cluster\",\n",
        "                   F.sum(F.when(F.col(\"time_diff\") > time_interval, F.lit(1)).otherwise(0))\n",
        "                   .over(Window.partitionBy(\"type\").orderBy(\"begin\")))\n",
        "\n",
        "# Continue with the remaining code...\n",
        "\n",
        "\n",
        "# Step 6: Aggregate data to calculate counts and beginning/end timestamps\n",
        "grouped_df = df.groupBy(\"type\", \"event_cluster\").agg(F.count(\"*\").alias(\"event_count\"),\n",
        "                                                     F.min(\"begin\").alias(\"begin\"),\n",
        "                                                     F.max(\"end\").alias(\"end\"))\n",
        "\n",
        "# Step 7: Create a new DataFrame with desired output columns\n",
        "output_df = grouped_df.select(\"type\", \"event_count\", \"begin\", \"end\")\n",
        "\n",
        "# Step 8: Display or save the resulting DataFrame\n",
        "output_df.show()\n"
      ],
      "metadata": {
        "id": "OR6M65o5n2G9"
      },
      "execution_count": null,
      "outputs": []
    },
    {
      "cell_type": "code",
      "source": [
        "from pyspark.sql import SparkSession\n",
        "from pyspark.sql.functions import col, sum\n",
        "from pyspark.sql.window import Window\n",
        "\n",
        "# Create a SparkSession\n",
        "spark = SparkSession.builder.getOrCreate()\n",
        "\n",
        "# Create a sample DataFrame\n",
        "data = [\n",
        "    (\"A\", 10),\n",
        "    (\"A\", 20),\n",
        "    (\"B\", 15),\n",
        "    (\"B\", 25),\n",
        "    (\"B\", 30),\n",
        "    (\"C\", 5),\n",
        "]\n",
        "\n",
        "df = spark.createDataFrame(data, [\"type\", \"value\"])\n",
        "\n",
        "# Define the Window specification\n",
        "window = Window.partitionBy(\"type\").orderBy(\"value\")\n",
        "\n",
        "# Apply window function\n",
        "df = df.withColumn(\"sum_value\", sum(col(\"value\")).over(window))\n",
        "\n",
        "df.show()\n"
      ],
      "metadata": {
        "id": "FIGa-tobsoei"
      },
      "execution_count": null,
      "outputs": []
    }
  ]
}