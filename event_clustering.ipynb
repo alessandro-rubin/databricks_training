{
  "nbformat": 4,
  "nbformat_minor": 0,
  "metadata": {
    "colab": {
      "provenance": [],
      "authorship_tag": "ABX9TyMw1lKsU91mqcJkmtOeRzD/",
      "include_colab_link": true
    },
    "kernelspec": {
      "name": "python3",
      "display_name": "Python 3"
    },
    "language_info": {
      "name": "python"
    }
  },
  "cells": [
    {
      "cell_type": "markdown",
      "metadata": {
        "id": "view-in-github",
        "colab_type": "text"
      },
      "source": [
        "<a href=\"https://colab.research.google.com/github/alessandro-rubin/databricks_training/blob/main/event_clustering.ipynb\" target=\"_parent\"><img src=\"https://colab.research.google.com/assets/colab-badge.svg\" alt=\"Open In Colab\"/></a>"
      ]
    },
    {
      "cell_type": "code",
      "execution_count": 1,
      "metadata": {
        "colab": {
          "base_uri": "https://localhost:8080/"
        },
        "id": "H5I7hCERna21",
        "outputId": "3eb2d85a-746c-4a80-986a-97ad868c821d"
      },
      "outputs": [
        {
          "output_type": "stream",
          "name": "stdout",
          "text": [
            "Collecting pyspark\n",
            "  Downloading pyspark-3.4.1.tar.gz (310.8 MB)\n",
            "\u001b[2K     \u001b[90m━━━━━━━━━━━━━━━━━━━━━━━━━━━━━━━━━━━━━━━\u001b[0m \u001b[32m310.8/310.8 MB\u001b[0m \u001b[31m3.2 MB/s\u001b[0m eta \u001b[36m0:00:00\u001b[0m\n",
            "\u001b[?25h  Preparing metadata (setup.py) ... \u001b[?25l\u001b[?25hdone\n",
            "Requirement already satisfied: py4j==0.10.9.7 in /usr/local/lib/python3.10/dist-packages (from pyspark) (0.10.9.7)\n",
            "Building wheels for collected packages: pyspark\n",
            "  Building wheel for pyspark (setup.py) ... \u001b[?25l\u001b[?25hdone\n",
            "  Created wheel for pyspark: filename=pyspark-3.4.1-py2.py3-none-any.whl size=311285398 sha256=2e506c3f7e123d3713df7eda6efc7b0eecf9d8c227550ec4113b3b72bc1d047f\n",
            "  Stored in directory: /root/.cache/pip/wheels/0d/77/a3/ff2f74cc9ab41f8f594dabf0579c2a7c6de920d584206e0834\n",
            "Successfully built pyspark\n",
            "Installing collected packages: pyspark\n",
            "Successfully installed pyspark-3.4.1\n"
          ]
        }
      ],
      "source": [
        "!pip install pyspark\n",
        "\n",
        "from pyspark.sql import SparkSession\n",
        "from pyspark.sql.types import DoubleType, IntegerType, StringType, StructType, StructField, TimestampType\n",
        "import random\n",
        "import datetime\n",
        "import pandas as pd\n",
        "import pyspark.sql.functions as F"
      ]
    },
    {
      "cell_type": "code",
      "source": [
        "from pyspark.sql.functions import col\n",
        "\n",
        "# Create a SparkSession\n",
        "spark = SparkSession.builder.getOrCreate()\n",
        "\n",
        "# Sample input data\n",
        "data = [\n",
        "    (\"Event A\", \"2023-07-01 10:00:00\", \"2023-07-01 10:05:00\"),\n",
        "    (\"Event A\", \"2023-07-01 10:07:00\", \"2023-07-01 10:10:00\"),\n",
        "    (\"Event A\", \"2023-07-01 10:15:00\", \"2023-07-01 10:20:00\"),\n",
        "    (\"Event B\", \"2023-07-01 10:01:00\", \"2023-07-01 10:02:00\"),\n",
        "    (\"Event B\", \"2023-07-01 10:04:00\", \"2023-07-01 10:06:00\"),\n",
        "    (\"Event B\", \"2023-07-01 10:08:00\", \"2023-07-01 10:09:00\"),\n",
        "    (\"Event C\", \"2023-07-01 10:02:00\", \"2023-07-01 10:05:00\"),\n",
        "    (\"Event C\", \"2023-07-01 10:11:00\", \"2023-07-01 10:14:00\"),\n",
        "    (\"Event C\", \"2023-07-01 10:17:00\", \"2023-07-01 10:19:00\"),\n",
        "]\n",
        "\n",
        "# Create the DataFrame\n",
        "df = spark.createDataFrame(data, [\"type\", \"begin\", \"end\"])\n",
        "\n",
        "# Convert string timestamps to timestamp data type\n",
        "df = df.withColumn(\"begin\", col(\"begin\").cast(\"timestamp\"))\n",
        "df = df.withColumn(\"end\", col(\"end\").cast(\"timestamp\"))\n",
        "\n",
        "# Show the input DataFrame\n",
        "df.show()\n"
      ],
      "metadata": {
        "colab": {
          "base_uri": "https://localhost:8080/"
        },
        "id": "0caDZw0knohz",
        "outputId": "2fda913c-c16d-4d59-caa6-0cfd52b16f49"
      },
      "execution_count": 2,
      "outputs": [
        {
          "output_type": "stream",
          "name": "stdout",
          "text": [
            "+-------+-------------------+-------------------+\n",
            "|   type|              begin|                end|\n",
            "+-------+-------------------+-------------------+\n",
            "|Event A|2023-07-01 10:00:00|2023-07-01 10:05:00|\n",
            "|Event A|2023-07-01 10:07:00|2023-07-01 10:10:00|\n",
            "|Event A|2023-07-01 10:15:00|2023-07-01 10:20:00|\n",
            "|Event B|2023-07-01 10:01:00|2023-07-01 10:02:00|\n",
            "|Event B|2023-07-01 10:04:00|2023-07-01 10:06:00|\n",
            "|Event B|2023-07-01 10:08:00|2023-07-01 10:09:00|\n",
            "|Event C|2023-07-01 10:02:00|2023-07-01 10:05:00|\n",
            "|Event C|2023-07-01 10:11:00|2023-07-01 10:14:00|\n",
            "|Event C|2023-07-01 10:17:00|2023-07-01 10:19:00|\n",
            "+-------+-------------------+-------------------+\n",
            "\n"
          ]
        }
      ]
    },
    {
      "cell_type": "code",
      "source": [
        "\n",
        "import pyspark.sql.functions as F\n",
        "from pyspark.sql import Window\n",
        "\n",
        "# Convert the user-defined time interval to seconds\n",
        "time_interval = 300  # User-defined value\n",
        "\n",
        "# Calculate the time difference in seconds\n",
        "df = df.withColumn(\"time_diff\",\n",
        "                   F.col(\"begin\").cast(\"long\") - F.lag(\"end\").over(Window.partitionBy(\"type\").orderBy(\"begin\")).cast(\"long\"))\n",
        "\n",
        "# Group events and create event clusters based on the time interval\n",
        "df = df.withColumn(\"event_cluster\",\n",
        "                   F.sum(F.when(F.col(\"time_diff\") > time_interval, F.lit(1)).otherwise(0))\n",
        "                   .over(Window.partitionBy(\"type\").orderBy(\"begin\")))\n",
        "\n",
        "# Continue with the remaining code...\n",
        "\n",
        "\n",
        "# Step 6: Aggregate data to calculate counts and beginning/end timestamps\n",
        "grouped_df = df.groupBy(\"type\", \"event_cluster\").agg(F.count(\"*\").alias(\"event_count\"),\n",
        "                                                     F.min(\"begin\").alias(\"begin\"),\n",
        "                                                     F.max(\"end\").alias(\"end\"))\n",
        "\n",
        "# Step 7: Create a new DataFrame with desired output columns\n",
        "output_df = grouped_df.select(\"type\", \"event_count\", \"begin\", \"end\")\n",
        "\n",
        "# Step 8: Display or save the resulting DataFrame\n",
        "output_df.show()\n"
      ],
      "metadata": {
        "colab": {
          "base_uri": "https://localhost:8080/"
        },
        "id": "OR6M65o5n2G9",
        "outputId": "6d55aa20-a40a-494f-e67f-3ce46c094d8b"
      },
      "execution_count": 9,
      "outputs": [
        {
          "output_type": "stream",
          "name": "stdout",
          "text": [
            "+-------+-----------+-------------------+-------------------+\n",
            "|   type|event_count|              begin|                end|\n",
            "+-------+-----------+-------------------+-------------------+\n",
            "|Event A|          3|2023-07-01 10:00:00|2023-07-01 10:20:00|\n",
            "|Event B|          3|2023-07-01 10:01:00|2023-07-01 10:09:00|\n",
            "|Event C|          1|2023-07-01 10:02:00|2023-07-01 10:05:00|\n",
            "|Event C|          2|2023-07-01 10:11:00|2023-07-01 10:19:00|\n",
            "+-------+-----------+-------------------+-------------------+\n",
            "\n"
          ]
        }
      ]
    }
  ]
}